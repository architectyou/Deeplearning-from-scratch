{
 "cells": [
  {
   "cell_type": "markdown",
   "metadata": {},
   "source": [
    "# 마르코프 결정 과정(Markov Decision Process, MDP)\n",
    "- 에이전트는 상황이 변하는 것을 고려하여 최선의 수를 두어야 함.\n",
    "- Agent의 상황 = 현재 상태(state)\n",
    "- 눈 앞의 보상이 아니라 미래에 얻을 수 있는 보상의 총합을 고려해야 함(보상의 총합을 극대화)\n",
    "- 상태 $s_t$에서 행동 $a_t$를 취했을 때 얻을 수 있는 보상 $r_{t+1}$, 다음 상태 $s_{t+1}$\n",
    "\n",
    "**markov property**\n",
    "- `현재의 정보만 고려하는 성질` (어떤 상태들을 거쳐왔고 어떤 행동들을 취해왔는지는 신경쓰지 않음.)\n",
    "- MDP는 마르코프 성질을 만족한다고 가정하고 상태전이와 보상을 모델링.\n",
    "\n",
    "**policy**\n",
    "- agent가 행동을 결정하는 방식\n",
    "- 환경에 대해 필요한 정보는 모두 현재 상태에 있음. (MDP)\n",
    "  - 결정적 정책 $\\mu(s) = a$\n",
    "  - 확률적 정책 $\\pi(a|s)$"
   ]
  },
  {
   "cell_type": "markdown",
   "metadata": {},
   "source": [
    "Agent는 정책에 따라 행동하며, 행동과 상태전이에 따라 보상을 받고 다음 상태로 넘어감.\n",
    "보상은 보상함수가 결정."
   ]
  },
  {
   "cell_type": "markdown",
   "metadata": {},
   "source": [
    "**optimal policy**\n",
    "- 최적의 정책 (수익이 최대가 되는 정책)\n",
    "\n",
    "**return**\n",
    "- $G_t = R_{t+1} + \\gamma R_{t+2} + \\gamma^2 R_{t+3} + \\cdots = \\sum_{k=0}^{\\infty} \\gamma^k R_{t+k+1}$\n",
    "- $\\gamma$: 감가율(discount factor)\n",
    "- continuous한 경우에 무한대가 되지 않기 위함\n",
    "\n",
    "**state-value function**\n",
    "- 상태에 대한 기대 수익\n",
    "- $V^{\\pi}(s) = \\mathbb{E}_{\\pi}[G_t | S_t = s]$\n",
    "\n"
   ]
  },
  {
   "cell_type": "markdown",
   "metadata": {},
   "source": [
    "- 두 정책의 우열을 가리려면 하나의 정책이 다른 정책보다 '모든 상태'에서 더 좋거나 최소한 같아야 함.\n",
    "- MDP에서는 최적 정책이 적어도 하나 존재 (결정적 정책)\n",
    "\n",
    "\n",
    "**optimal state-value function**\n",
    "- $V^*(s) = \\max_{\\pi} V^{\\pi}(s)$\n",
    "\n"
   ]
  },
  {
   "cell_type": "code",
   "execution_count": 1,
   "metadata": {},
   "outputs": [
    {
     "name": "stdout",
     "output_type": "stream",
     "text": [
      "-7.999734386011124\n"
     ]
    }
   ],
   "source": [
    "# 최적 정책 찾기 (등비급수)\n",
    "\n",
    "V = 1\n",
    "for i in range(1, 100):\n",
    "    V += -1 * (0.9 ** i)\n",
    "print(V)"
   ]
  }
 ],
 "metadata": {
  "kernelspec": {
   "display_name": "llm",
   "language": "python",
   "name": "python3"
  },
  "language_info": {
   "codemirror_mode": {
    "name": "ipython",
    "version": 3
   },
   "file_extension": ".py",
   "mimetype": "text/x-python",
   "name": "python",
   "nbconvert_exporter": "python",
   "pygments_lexer": "ipython3",
   "version": "3.8.18"
  }
 },
 "nbformat": 4,
 "nbformat_minor": 2
}
