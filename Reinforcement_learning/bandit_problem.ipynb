{
 "cells": [
  {
   "cell_type": "markdown",
   "metadata": {},
   "source": [
    "- reinforcement learning : agent와 환경의 상호작용을 통해 학습\n",
    "  - 행동을 취하고 그에 따른 보상을 받으며 학습"
   ]
  },
  {
   "cell_type": "markdown",
   "metadata": {},
   "source": [
    "# 밴디트 문제 (multi-armed bandit problem)\n",
    "  : bandit = slot machine. 목표는 코인을 최대한 많이 얻는 것!\n",
    "  - 무작위성에 현혹되지 않게 '기댓값'을 기준으로 평가\n",
    "1. 만약 각 슬롯머신의 가치(보상 기댓값)을 알면 플레이어는 가장 좋은 슬롯 머신을 고를 수 있음.\n",
    "2. 하지만 실제로는 각 슬롯머신의 가치를 모름.\n",
    "3. 따라서 각 슬롯머신을 돌려보며 가치를 추정(가능한 정확하게)해야 함."
   ]
  },
  {
   "cell_type": "code",
   "execution_count": 2,
   "metadata": {},
   "outputs": [
    {
     "name": "stdout",
     "output_type": "stream",
     "text": [
      "0.5488135039273248\n",
      "0.6320014351498722\n",
      "0.6222554154571295\n",
      "0.6029123573420713\n",
      "0.567060845741438\n",
      "0.5801997236289743\n",
      "0.5598265075766483\n",
      "0.6013198192273272\n",
      "0.6415801460355164\n",
      "0.6157662833145425\n"
     ]
    }
   ],
   "source": [
    "# 평균을 구하는 코드\n",
    "import numpy as np\n",
    "\n",
    "np.random.seed(0) # 0.0 이상 1.0 미만의 무작위 수 생성\n",
    "rewards = []\n",
    "\n",
    "for n in range(1, 11): #플레이어가 늘 수록 n개의 합을 구하는 sum 코드의 실행비용 증가\n",
    "    reward = np.random.rand()\n",
    "    rewards.append(reward)\n",
    "    \n",
    "    Q = sum(rewards) / n\n",
    "    print(Q)"
   ]
  },
  {
   "cell_type": "code",
   "execution_count": 3,
   "metadata": {},
   "outputs": [
    {
     "name": "stdout",
     "output_type": "stream",
     "text": [
      "0.7917250380826646\n",
      "0.6603099789177845\n",
      "0.6295548396431672\n",
      "0.7035652893055406\n",
      "0.5770594430840099\n",
      "0.49540441918693173\n",
      "0.4275207017945595\n",
      "0.4781580947637318\n",
      "0.5114912787844116\n",
      "0.5473433657306523\n"
     ]
    }
   ],
   "source": [
    "# 표본 평균 구하기2\n",
    "Q = 0\n",
    "\n",
    "for n in range(1, 11):\n",
    "    reward = np.random.rand()\n",
    "    Q = Q + (reward - Q) / n\n",
    "    print(Q)"
   ]
  },
  {
   "cell_type": "markdown",
   "metadata": {},
   "source": [
    "- 플레이어는 가치 추정치가 가장 높은 머신을 선택해야 함 (greedy policy)\n",
    "  - exploitation : 지금까지 실제로 플레이 한 결과를 바탕으로 가장 좋다고 생각되는 슬롯 머신을 플레이 (greedy)\n",
    "  - exploration : 다양한 슬롯머신 시도\n",
    "\n",
    "- 엡실론 탐욕정책\n",
    "  - epsilon 의 확률로 '탐색', 1-epsilon 의 확률로 '활용(탐욕)'"
   ]
  },
  {
   "cell_type": "code",
   "execution_count": 4,
   "metadata": {},
   "outputs": [],
   "source": [
    "# bendit slot machine\n",
    "\n",
    "import numpy as np\n",
    "\n",
    "class Bandit:\n",
    "    def __init__(self, arms = 10): # arms = 슬롯머신의 개수\n",
    "        self.rates = np.random.rand(arms) # 각 슬롯머신의 승률\n",
    "        \n",
    "    def play(self, arm):\n",
    "        rate = self.rates[arm]\n",
    "        if rate > np.random.rand():\n",
    "            return 1\n",
    "        else:\n",
    "            return 0"
   ]
  },
  {
   "cell_type": "code",
   "execution_count": 5,
   "metadata": {},
   "outputs": [
    {
     "name": "stdout",
     "output_type": "stream",
     "text": [
      "1\n",
      "1\n",
      "1\n"
     ]
    }
   ],
   "source": [
    "bandit = Bandit()\n",
    "\n",
    "for i in range(3):\n",
    "    print(bandit.play(0))"
   ]
  },
  {
   "cell_type": "code",
   "execution_count": 6,
   "metadata": {},
   "outputs": [
    {
     "name": "stdout",
     "output_type": "stream",
     "text": [
      "1.0\n",
      "1.0\n",
      "1.0\n",
      "1.0\n",
      "1.0\n",
      "1.0\n",
      "1.0\n",
      "1.0\n",
      "1.0\n",
      "1.0\n"
     ]
    }
   ],
   "source": [
    "# agent 구현\n",
    "\n",
    "Q = 0\n",
    "for n in range(1, 11):\n",
    "    reward = bandit.play(0) # 0번 슬롯머신을 플레이\n",
    "    Q = Q + (reward - Q) / n\n",
    "    print(Q)"
   ]
  },
  {
   "cell_type": "code",
   "execution_count": 7,
   "metadata": {},
   "outputs": [
    {
     "name": "stdout",
     "output_type": "stream",
     "text": [
      "[0. 0. 0. 0. 0. 0. 0. 0. 0. 0.]\n",
      "[0. 0. 0. 0. 0. 0. 0. 0. 0. 0.]\n",
      "[0. 0. 1. 0. 0. 0. 0. 0. 0. 0.]\n",
      "[0. 0. 1. 1. 0. 0. 0. 0. 0. 0.]\n",
      "[0.  0.  1.  1.  0.  0.  0.  0.  0.  0.5]\n",
      "[0.  0.  1.  1.  0.  0.  0.  0.  0.  0.5]\n",
      "[0.  0.  1.  1.  0.  0.  0.  0.  0.  0.5]\n",
      "[0.  0.  1.  1.  0.  0.  0.  0.  0.  0.5]\n",
      "[0.  0.  1.  1.  0.  0.  0.  0.  0.  0.5]\n",
      "[0.  0.  1.  1.  0.  0.  0.  1.  0.  0.5]\n"
     ]
    }
   ],
   "source": [
    "# 10대 슬롯머신에 대한 가치 추정치(Q) 구하기\n",
    "Qs  = np.zeros(10) # 각 슬롯머신의 가치 추정치\n",
    "ns = np.zeros(10) # 각 슬롯머신의 시도 횟수\n",
    "\n",
    "for n in range(10):\n",
    "    action = np.random.randint(0, 10)\n",
    "    reward = bandit.play(action)\n",
    "    \n",
    "    ns[action] += 1 # 플레이 횟수 count\n",
    "    Qs[action] += (reward - Qs[action]) / ns[action]\n",
    "    print(Qs)"
   ]
  },
  {
   "cell_type": "code",
   "execution_count": 8,
   "metadata": {},
   "outputs": [
    {
     "name": "stdout",
     "output_type": "stream",
     "text": [
      "[0. 0. 1. 1. 4. 0. 1. 1. 0. 2.]\n"
     ]
    }
   ],
   "source": [
    "print(ns)"
   ]
  },
  {
   "cell_type": "markdown",
   "metadata": {},
   "source": [
    "### Agent class 구현"
   ]
  },
  {
   "cell_type": "code",
   "execution_count": 9,
   "metadata": {},
   "outputs": [],
   "source": [
    "### agent class ###\n",
    "\n",
    "class Agent:\n",
    "    def __init__(self, epsilon, action_size=10):\n",
    "        self.epsilon = epsilon\n",
    "        self.Qs = np.zeros(action_size)\n",
    "        self.ns = np.zeros(action_size)\n",
    "        \n",
    "    def update(self, action, reward):\n",
    "        self.ns[action] += 1\n",
    "        self.Qs[action] += (reward - self.Qs[action]) / self.ns[action]\n",
    "        \n",
    "    def get_action(self): # 행동 선택(greedy)\n",
    "        if np.random.rand() < self.epsilon:\n",
    "            return np.random.randint(0, len(self.Qs)) # 탐색\n",
    "        return np.argmax(self.Qs) # greedy"
   ]
  },
  {
   "cell_type": "markdown",
   "metadata": {},
   "source": [
    "### Bandit 프로세스 실행"
   ]
  },
  {
   "cell_type": "code",
   "execution_count": 10,
   "metadata": {},
   "outputs": [
    {
     "name": "stdout",
     "output_type": "stream",
     "text": [
      "932\n"
     ]
    }
   ],
   "source": [
    "import matplotlib.pyplot as plt\n",
    "\n",
    "steps = 1000\n",
    "epsilon = 0.1\n",
    "\n",
    "bandit = Bandit()\n",
    "agent = Agent(epsilon)\n",
    "total_reward = 0\n",
    "total_rewards = []\n",
    "rates = []\n",
    "\n",
    "for step in range(steps):\n",
    "    action = agent.get_action()\n",
    "    reward = bandit.play(action) # 플레이 후 보상\n",
    "    agent.update(action, reward)\n",
    "    total_reward += reward\n",
    "    \n",
    "    total_rewards.append(total_reward)\n",
    "    rates.append(total_reward / (step + 1))\n",
    "    \n",
    "print(total_reward)"
   ]
  },
  {
   "cell_type": "markdown",
   "metadata": {},
   "source": [
    "### reward 그래프"
   ]
  },
  {
   "cell_type": "code",
   "execution_count": 11,
   "metadata": {},
   "outputs": [
    {
     "data": {
      "image/png": "[encoded data removed]",
      "text/plain": [
       "<Figure size 640x480 with 1 Axes>"
      ]
     },
     "metadata": {},
     "output_type": "display_data"
    }
   ],
   "source": [
    "# reward 그래프\n",
    "plt.ylabel('Total reward')\n",
    "plt.xlabel('Steps')\n",
    "plt.plot(total_rewards)\n",
    "plt.show()"
   ]
  },
  {
   "cell_type": "markdown",
   "metadata": {},
   "source": [
    "\n",
    "### 단계별 승률\n"
   ]
  },
  {
   "cell_type": "code",
   "execution_count": 12,
   "metadata": {},
   "outputs": [
    {
     "data": {
      "image/png": "[encoded data removed]",
      "text/plain": [
       "<Figure size 640x480 with 1 Axes>"
      ]
     },
     "metadata": {},
     "output_type": "display_data"
    }
   ],
   "source": [
    "# 단계별 승률\n",
    "plt.ylabel('Rates')\n",
    "plt.xlabel('Steps')\n",
    "plt.plot(rates)\n",
    "plt.show()"
   ]
  },
  {
   "cell_type": "markdown",
   "metadata": {},
   "source": [
    "### 실험횟수 증가하여 평균내기"
   ]
  },
  {
   "cell_type": "code",
   "execution_count": 13,
   "metadata": {},
   "outputs": [],
   "source": [
    "runs = 200\n",
    "steps = 1000\n",
    "epsilon = 0.1\n",
    "all_rates = np.zeros((runs, steps)) #형상 배열\n",
    "\n",
    "for run in range(runs):\n",
    "    bandit = Bandit()\n",
    "    agent = Agent(epsilon)\n",
    "    total_reward = 0\n",
    "    rates = []\n",
    "    \n",
    "    for step in range(steps):\n",
    "        action = agent.get_action()\n",
    "        reward = bandit.play(action) # 플레이 후 보상\n",
    "        agent.update(action, reward)\n",
    "        total_reward += reward\n",
    "        rates.append(total_reward / (step + 1))\n",
    "        \n",
    "        \n",
    "    all_rates[run] = rates\n",
    "    \n",
    "avg_rates = np.average(all_rates, axis=0) # 각 단계의 평균 저장\n"
   ]
  },
  {
   "cell_type": "code",
   "execution_count": 14,
   "metadata": {},
   "outputs": [
    {
     "data": {
      "image/png": "[encoded data removed]",
      "text/plain": [
       "<Figure size 640x480 with 1 Axes>"
      ]
     },
     "metadata": {},
     "output_type": "display_data"
    }
   ],
   "source": [
    "plt.ylabel('Rates')\n",
    "plt.xlabel('Steps')\n",
    "plt.plot(avg_rates)\n",
    "plt.show()"
   ]
  },
  {
   "cell_type": "markdown",
   "metadata": {},
   "source": [
    "엡실론의 값을 다양히 시도해보면 최적의 엡실론 값을 찾을 수 있음."
   ]
  },
  {
   "cell_type": "markdown",
   "metadata": {},
   "source": [
    "## self rate가 플레이때마다 달라진다면? (Non-stationary Bandit)"
   ]
  },
  {
   "cell_type": "code",
   "execution_count": null,
   "metadata": {},
   "outputs": [],
   "source": [
    "class NonStatBandit:\n",
    "    def __init__(self, arms=10):\n",
    "        self.arms = arms\n",
    "        self.rates = np.random.rand(arms)\n",
    "        \n",
    "    def play(self, arm):\n",
    "        rate = self.rates[arm]\n",
    "        self.rates += 0.1 * np.random.randn(self.arms) #노이즈 추가\n",
    "        if rate > np.random.rand():\n",
    "            return 1\n",
    "        else:\n",
    "            return 0"
   ]
  },
  {
   "cell_type": "markdown",
   "metadata": {},
   "source": [
    "- 비정상 문제에서는 시간이 흐르면 환경이 변하기 때문에 과거 데이터의 중요도는 점점 낮아지고, 새로운 보상의 가중치는 점점 커져야 함\n",
    "- 행동 가치 추정치를 갱신하는 식에서 과거 보상의 가중치를 줄이는 방법을 추가해야 함. -> 지수이동 평균"
   ]
  },
  {
   "cell_type": "code",
   "execution_count": 15,
   "metadata": {},
   "outputs": [],
   "source": [
    "class AlphaAgent:\n",
    "    def __init__(self, epsilon, alpha, actions = 10):\n",
    "        self.epsilon = epsilon\n",
    "        self.Qs = np.zeros(actions)\n",
    "        self.alpha = alpha\n",
    "        \n",
    "    def update(self, action, reward):\n",
    "        self.Qs[action] += (reward - self.Qs[action]) * self.alpha\n",
    "        \n",
    "    def get_action(self):\n",
    "        if np.random.rand() < self.epsilon:\n",
    "            return np.random.randint(0, len(self.Qs))\n",
    "        return np.argmax(self.Qs)"
   ]
  }
 ],
 "metadata": {
  "kernelspec": {
   "display_name": "llm",
   "language": "python",
   "name": "python3"
  },
  "language_info": {
   "codemirror_mode": {
    "name": "ipython",
    "version": 3
   },
   "file_extension": ".py",
   "mimetype": "text/x-python",
   "name": "python",
   "nbconvert_exporter": "python",
   "pygments_lexer": "ipython3",
   "version": "3.8.18"
  }
 },
 "nbformat": 4,
 "nbformat_minor": 2
}
